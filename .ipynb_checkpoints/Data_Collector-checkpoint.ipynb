{
 "cells": [
  {
   "cell_type": "code",
   "execution_count": 6,
   "id": "a44d6ef3-f17f-413f-93f7-1a50537c195f",
   "metadata": {},
   "outputs": [],
   "source": [
    "import mysql.connector\n",
    "import pandas as pd\n",
    "import requests\n",
    "import json\n",
    "from datetime import date\n",
    "import datetime\n",
    "import time"
   ]
  },
  {
   "cell_type": "markdown",
   "id": "9ecd4c2b-ee06-4b11-b1e9-f7f0604980ef",
   "metadata": {
    "tags": []
   },
   "source": [
    "### Download Data from the Polygon\n",
    "\n",
    "- Meta (META)\n",
    "- Apple (APPL)\n",
    "- Amazon (AMZN)\n",
    "- Netflix (NFLX)\n",
    "- Alphabet (GOOG)\n",
    "- Microsoft (MSFT)"
   ]
  },
  {
   "cell_type": "code",
   "execution_count": 30,
   "id": "2a006e81-6b1b-4f8e-8135-9afaf5243d53",
   "metadata": {},
   "outputs": [],
   "source": [
    "companies = ['META', 'AAPL','AMZN','NFLX','GOOG','MSFT']  #company symbols to retrieve.\n",
    "stock_date = '2023-01-02'"
   ]
  },
  {
   "cell_type": "code",
   "execution_count": 8,
   "id": "f5085e2f-0944-48d7-af42-a60f9f2e62b3",
   "metadata": {},
   "outputs": [],
   "source": [
    "test_date = datetime.datetime.strptime(\"2023-01-01\", \"%Y-%m-%d\")\n",
    "data_generated=pd.date_range(test_date, periods = 31)\n",
    "data_generated"
   ]
  },
  {
   "cell_type": "code",
   "execution_count": 31,
   "id": "69c84d14-57a0-4f7a-8818-e7f7d492845d",
   "metadata": {},
   "outputs": [],
   "source": [
    "#You need to set up your connection with your credentials\n",
    "connection = mysql.connector.connect(user='stock_user', password='letmein',\n",
    "                              host='127.0.0.1',\n",
    "                              database='stock_data')\n",
    "global_cursor = connection.cursor()"
   ]
  },
  {
   "cell_type": "code",
   "execution_count": 41,
   "id": "e822aa71-c656-42cf-8a02-89f927abc628",
   "metadata": {},
   "outputs": [
    {
     "name": "stdout",
     "output_type": "stream",
     "text": [
      "Gettting Data for  META\n",
      "This date was not found\n",
      "Gettting Data for  AAPL\n",
      "This date was not found\n",
      "Gettting Data for  AMZN\n",
      "This date was not found\n",
      "Gettting Data for  NFLX\n",
      "This date was not found\n",
      "Gettting Data for  GOOG\n"
     ]
    },
    {
     "ename": "IndexError",
     "evalue": "list index out of range",
     "output_type": "error",
     "traceback": [
      "\u001b[0;31m---------------------------------------------------------------------------\u001b[0m",
      "\u001b[0;31mIndexError\u001b[0m                                Traceback (most recent call last)",
      "\u001b[0;32m/tmp/ipykernel_272705/4027073782.py\u001b[0m in \u001b[0;36m<module>\u001b[0;34m\u001b[0m\n\u001b[1;32m      1\u001b[0m \u001b[0;32mfor\u001b[0m \u001b[0mcompany\u001b[0m \u001b[0;32min\u001b[0m \u001b[0mcompanies\u001b[0m\u001b[0;34m:\u001b[0m\u001b[0;34m\u001b[0m\u001b[0;34m\u001b[0m\u001b[0m\n\u001b[1;32m      2\u001b[0m     \u001b[0mprint\u001b[0m\u001b[0;34m(\u001b[0m\u001b[0;34m\"Gettting Data for \"\u001b[0m\u001b[0;34m,\u001b[0m \u001b[0mcompany\u001b[0m\u001b[0;34m)\u001b[0m\u001b[0;34m\u001b[0m\u001b[0;34m\u001b[0m\u001b[0m\n\u001b[0;32m----> 3\u001b[0;31m     \u001b[0mget_company_data\u001b[0m\u001b[0;34m(\u001b[0m\u001b[0mcompany\u001b[0m\u001b[0;34m,\u001b[0m \u001b[0mstock_date\u001b[0m\u001b[0;34m,\u001b[0m\u001b[0mconnection\u001b[0m\u001b[0;34m,\u001b[0m \u001b[0mglobal_cursor\u001b[0m\u001b[0;34m)\u001b[0m\u001b[0;34m\u001b[0m\u001b[0;34m\u001b[0m\u001b[0m\n\u001b[0m",
      "\u001b[0;32m/tmp/ipykernel_272705/3924354673.py\u001b[0m in \u001b[0;36mget_company_data\u001b[0;34m(ticker, timestamp, cnx, local_cursor)\u001b[0m\n\u001b[1;32m     15\u001b[0m         \u001b[0mticker_date\u001b[0m \u001b[0;34m=\u001b[0m \u001b[0mdb_row\u001b[0m\u001b[0;34m[\u001b[0m\u001b[0;36m1\u001b[0m\u001b[0;34m]\u001b[0m\u001b[0;34m;\u001b[0m\u001b[0;34m\u001b[0m\u001b[0;34m\u001b[0m\u001b[0m\n\u001b[1;32m     16\u001b[0m         \u001b[0msymbol\u001b[0m \u001b[0;34m=\u001b[0m \u001b[0mdb_row\u001b[0m\u001b[0;34m[\u001b[0m\u001b[0;36m2\u001b[0m\u001b[0;34m]\u001b[0m\u001b[0;34m;\u001b[0m\u001b[0;34m\u001b[0m\u001b[0;34m\u001b[0m\u001b[0m\n\u001b[0;32m---> 17\u001b[0;31m         \u001b[0mopen_price\u001b[0m \u001b[0;34m=\u001b[0m \u001b[0mdb_row\u001b[0m\u001b[0;34m[\u001b[0m\u001b[0;36m3\u001b[0m\u001b[0;34m]\u001b[0m\u001b[0;34m\u001b[0m\u001b[0;34m\u001b[0m\u001b[0m\n\u001b[0m\u001b[1;32m     18\u001b[0m         \u001b[0mhigh_price\u001b[0m \u001b[0;34m=\u001b[0m \u001b[0mdb_row\u001b[0m\u001b[0;34m[\u001b[0m\u001b[0;36m4\u001b[0m\u001b[0;34m]\u001b[0m\u001b[0;34m\u001b[0m\u001b[0;34m\u001b[0m\u001b[0m\n\u001b[1;32m     19\u001b[0m         \u001b[0mlow_price\u001b[0m \u001b[0;34m=\u001b[0m \u001b[0mdb_row\u001b[0m\u001b[0;34m[\u001b[0m\u001b[0;36m5\u001b[0m\u001b[0;34m]\u001b[0m\u001b[0;34m\u001b[0m\u001b[0;34m\u001b[0m\u001b[0m\n",
      "\u001b[0;31mIndexError\u001b[0m: list index out of range"
     ]
    }
   ],
   "source": [
    "for company in companies:\n",
    "    print(\"Gettting Data for \", company)\n",
    "    get_company_data(company, stock_date,connection, global_cursor)"
   ]
  },
  {
   "cell_type": "code",
   "execution_count": 42,
   "id": "fcf7c592-69c1-4403-946e-a5d33e669958",
   "metadata": {},
   "outputs": [],
   "source": [
    "def get_company_data(ticker, timestamp, cnx, local_cursor):\n",
    "    request_string = 'https://api.polygon.io/v1/open-close/'+ticker+'/'+timestamp+'?adjusted=true&apiKey=46ipIrH5BrzkTqZj7OUvik7XAFOpu8GJ'\n",
    "    api_response = requests.get(request_string)\n",
    "    data = api_response.text\n",
    "    parse_json = json.loads(data)\n",
    "    db_row=[(v) for k, v in parse_json.items()]\n",
    "    \n",
    "   \n",
    "    #Ensure date is validd \n",
    "    if(db_row[0]!='NOT_FOUND'):\n",
    "        \n",
    "        #for i in range(1,8):\n",
    "        #    print(db_row[i])\n",
    "    \n",
    "        ticker_date = db_row[1];\n",
    "        symbol = db_row[2];\n",
    "        open_price = db_row[3]\n",
    "        high_price = db_row[4]\n",
    "        low_price = db_row[5]\n",
    "        close_price = db_row[6]\n",
    "        volume = db_row[7]\n",
    "    \n",
    "        sql = \"INSERT INTO stock (ticker_date, symbol, open_price, high_price, low_price, close_price, volume) VALUES (%s, %s, %s, %s, %s, %s, %s);\"\n",
    "        val = [(ticker_date, symbol, open_price, high_price, low_price, close_price, volume)]\n",
    "\n",
    "        local_cursor.executemany(sql, val)\n",
    "        cnx.commit()\n",
    "        print(local_cursor.rowcount, \"was inserted.\")\n",
    "        \n",
    "    else:\n",
    "        print(\"This date was not found\")\n",
    "\n",
    "    \n",
    "    time.sleep(15)\n",
    "    "
   ]
  },
  {
   "cell_type": "code",
   "execution_count": 37,
   "id": "efdc6e19-1ccc-469d-8e78-be426284e60f",
   "metadata": {},
   "outputs": [],
   "source": [
    "ticker='MSFT'\n",
    "timestamp='2023-01-02'\n",
    "request_string = 'https://api.polygon.io/v1/open-close/'+ticker+'/'+timestamp+'?adjusted=true&apiKey=46ipIrH5BrzkTqZj7OUvik7XAFOpu8GJ'\n",
    "api_response = requests.get(request_string)\n",
    "data = api_response.text\n",
    "parse_json = json.loads(data)"
   ]
  },
  {
   "cell_type": "code",
   "execution_count": 38,
   "id": "ae02d64c-b95e-4189-aaaf-01a147e93588",
   "metadata": {},
   "outputs": [],
   "source": [
    "db_row=[(v) for k, v in parse_json.items()]"
   ]
  },
  {
   "cell_type": "code",
   "execution_count": 39,
   "id": "76314bcd-9cfe-4ec2-8492-feba95f999c7",
   "metadata": {},
   "outputs": [
    {
     "data": {
      "text/plain": [
       "['NOT_FOUND', '08afe677c786d673ecf6602239a85d31', 'Data not found.']"
      ]
     },
     "execution_count": 39,
     "metadata": {},
     "output_type": "execute_result"
    }
   ],
   "source": [
    "db_row"
   ]
  },
  {
   "cell_type": "code",
   "execution_count": null,
   "id": "b03cf604-08cd-49b4-8376-6b504c368fe3",
   "metadata": {},
   "outputs": [],
   "source": []
  }
 ],
 "metadata": {
  "kernelspec": {
   "display_name": "Python 3 (ipykernel)",
   "language": "python",
   "name": "python3"
  },
  "language_info": {
   "codemirror_mode": {
    "name": "ipython",
    "version": 3
   },
   "file_extension": ".py",
   "mimetype": "text/x-python",
   "name": "python",
   "nbconvert_exporter": "python",
   "pygments_lexer": "ipython3",
   "version": "3.9.7"
  }
 },
 "nbformat": 4,
 "nbformat_minor": 5
}
