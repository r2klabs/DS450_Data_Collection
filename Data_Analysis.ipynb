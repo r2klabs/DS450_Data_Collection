{
 "cells": [
  {
   "cell_type": "code",
   "execution_count": 1,
   "id": "8658de60-ffa5-4a86-bbcb-e5f8484f6f82",
   "metadata": {},
   "outputs": [],
   "source": [
    "import mysql.connector\n",
    "import pandas as pd\n",
    "import requests\n",
    "import json\n",
    "from datetime import date\n",
    "import time\n",
    "import matplotlib.pyplot as plt"
   ]
  },
  {
   "cell_type": "code",
   "execution_count": 2,
   "id": "8f6df802-cd79-4e99-a864-820c83ed533b",
   "metadata": {},
   "outputs": [],
   "source": [
    "#You need to set up your connection with your credentials\n",
    "connection = mysql.connector.connect(user='stock_user', password='letmein',\n",
    "                              host='127.0.0.1',\n",
    "                              database='stock_data')\n",
    "global_cursor = connection.cursor()"
   ]
  },
  {
   "cell_type": "code",
   "execution_count": 10,
   "id": "f10115cc-3ede-4f01-bed3-e6a406b5d979",
   "metadata": {},
   "outputs": [],
   "source": [
    "sql = \"SELECT * FROM stock;\"\n",
    "\n",
    "global_cursor.execute(sql)\n",
    "rows = global_cursor.fetchall();"
   ]
  },
  {
   "cell_type": "code",
   "execution_count": 11,
   "id": "4e0b6d72-c30c-42f6-bb38-2fea0c312336",
   "metadata": {},
   "outputs": [],
   "source": [
    "column_names = ['company', 'stock_date', 'open_price', 'high_price', 'low_price', 'close_price', 'volume']"
   ]
  },
  {
   "cell_type": "code",
   "execution_count": 12,
   "id": "0fbca12f-c9d7-4524-b8f8-1bb9bd4d0540",
   "metadata": {},
   "outputs": [],
   "source": [
    "df = pd.DataFrame(rows, columns=column_names)"
   ]
  },
  {
   "cell_type": "markdown",
   "id": "a30c8c7c-9874-4df3-a14d-80a1ae20a3c0",
   "metadata": {},
   "source": [
    "Fix the data types"
   ]
  },
  {
   "cell_type": "code",
   "execution_count": 13,
   "id": "e3482871-6596-4e28-9a49-994d5605eecb",
   "metadata": {},
   "outputs": [],
   "source": [
    "df['stock_date'] = pd.to_datetime(df['stock_date'])\n",
    "df['open_price'] = pd.to_numeric(df['open_price'])\n",
    "df['high_price'] = pd.to_numeric(df['open_price'])\n",
    "df['low_price'] = pd.to_numeric(df['open_price'])\n",
    "df['close_price'] = pd.to_numeric(df['open_price'])"
   ]
  },
  {
   "cell_type": "code",
   "execution_count": 14,
   "id": "059dc869-3a80-426b-a8f5-83fb945d3ddc",
   "metadata": {},
   "outputs": [
    {
     "data": {
      "text/html": [
       "<div>\n",
       "<style scoped>\n",
       "    .dataframe tbody tr th:only-of-type {\n",
       "        vertical-align: middle;\n",
       "    }\n",
       "\n",
       "    .dataframe tbody tr th {\n",
       "        vertical-align: top;\n",
       "    }\n",
       "\n",
       "    .dataframe thead th {\n",
       "        text-align: right;\n",
       "    }\n",
       "</style>\n",
       "<table border=\"1\" class=\"dataframe\">\n",
       "  <thead>\n",
       "    <tr style=\"text-align: right;\">\n",
       "      <th></th>\n",
       "      <th>company</th>\n",
       "      <th>stock_date</th>\n",
       "      <th>open_price</th>\n",
       "      <th>high_price</th>\n",
       "      <th>low_price</th>\n",
       "      <th>close_price</th>\n",
       "      <th>volume</th>\n",
       "    </tr>\n",
       "  </thead>\n",
       "  <tbody>\n",
       "    <tr>\n",
       "      <th>0</th>\n",
       "      <td>META</td>\n",
       "      <td>2023-01-03</td>\n",
       "      <td>122.82</td>\n",
       "      <td>122.82</td>\n",
       "      <td>122.82</td>\n",
       "      <td>122.82</td>\n",
       "      <td>35528531</td>\n",
       "    </tr>\n",
       "    <tr>\n",
       "      <th>1</th>\n",
       "      <td>META</td>\n",
       "      <td>2023-01-04</td>\n",
       "      <td>127.38</td>\n",
       "      <td>127.38</td>\n",
       "      <td>127.38</td>\n",
       "      <td>127.38</td>\n",
       "      <td>32397094</td>\n",
       "    </tr>\n",
       "    <tr>\n",
       "      <th>2</th>\n",
       "      <td>META</td>\n",
       "      <td>2023-01-05</td>\n",
       "      <td>126.13</td>\n",
       "      <td>126.13</td>\n",
       "      <td>126.13</td>\n",
       "      <td>126.13</td>\n",
       "      <td>25447099</td>\n",
       "    </tr>\n",
       "    <tr>\n",
       "      <th>3</th>\n",
       "      <td>META</td>\n",
       "      <td>2023-01-06</td>\n",
       "      <td>128.97</td>\n",
       "      <td>128.97</td>\n",
       "      <td>128.97</td>\n",
       "      <td>128.97</td>\n",
       "      <td>27584498</td>\n",
       "    </tr>\n",
       "    <tr>\n",
       "      <th>4</th>\n",
       "      <td>META</td>\n",
       "      <td>2023-01-09</td>\n",
       "      <td>131.16</td>\n",
       "      <td>131.16</td>\n",
       "      <td>131.16</td>\n",
       "      <td>131.16</td>\n",
       "      <td>26628145</td>\n",
       "    </tr>\n",
       "  </tbody>\n",
       "</table>\n",
       "</div>"
      ],
      "text/plain": [
       "  company stock_date  open_price  high_price  low_price  close_price    volume\n",
       "0    META 2023-01-03      122.82      122.82     122.82       122.82  35528531\n",
       "1    META 2023-01-04      127.38      127.38     127.38       127.38  32397094\n",
       "2    META 2023-01-05      126.13      126.13     126.13       126.13  25447099\n",
       "3    META 2023-01-06      128.97      128.97     128.97       128.97  27584498\n",
       "4    META 2023-01-09      131.16      131.16     131.16       131.16  26628145"
      ]
     },
     "execution_count": 14,
     "metadata": {},
     "output_type": "execute_result"
    }
   ],
   "source": [
    "df.head()"
   ]
  },
  {
   "cell_type": "code",
   "execution_count": 15,
   "id": "f33173a1-bb24-41fc-a9df-2f1f68056ffc",
   "metadata": {},
   "outputs": [
    {
     "data": {
      "text/plain": [
       "<AxesSubplot:title={'center':'Time Series for MSFT'}, xlabel='Date', ylabel='Closing Price'>"
      ]
     },
     "execution_count": 15,
     "metadata": {},
     "output_type": "execute_result"
    },
    {
     "data": {
      "image/png": "[encoded data removed]",
      "text/plain": [
       "<Figure size 1080x720 with 1 Axes>"
      ]
     },
     "metadata": {
      "needs_background": "light"
     },
     "output_type": "display_data"
    }
   ],
   "source": [
    "df.plot(x='stock_date',y='close_price', title='Time Series for MSFT',legend=False, ylabel=\"Closing Price\", xlabel=\"Date\", figsize=(15,10))"
   ]
  },
  {
   "cell_type": "code",
   "execution_count": null,
   "id": "c0d86922-de3b-43ce-9a99-3fb21c11ec45",
   "metadata": {},
   "outputs": [],
   "source": []
  },
  {
   "cell_type": "code",
   "execution_count": null,
   "id": "02482127-4b77-4533-9878-c99a13540c90",
   "metadata": {},
   "outputs": [],
   "source": []
  }
 ],
 "metadata": {
  "kernelspec": {
   "display_name": "Python 3 (ipykernel)",
   "language": "python",
   "name": "python3"
  },
  "language_info": {
   "codemirror_mode": {
    "name": "ipython",
    "version": 3
   },
   "file_extension": ".py",
   "mimetype": "text/x-python",
   "name": "python",
   "nbconvert_exporter": "python",
   "pygments_lexer": "ipython3",
   "version": "3.9.7"
  }
 },
 "nbformat": 4,
 "nbformat_minor": 5
}
